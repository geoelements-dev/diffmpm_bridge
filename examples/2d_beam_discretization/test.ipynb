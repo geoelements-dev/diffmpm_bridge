{
 "cells": [
  {
   "cell_type": "code",
   "execution_count": 14,
   "metadata": {},
   "outputs": [],
   "source": [
    "import numpy as np\n",
    "import einops\n",
    "Nx = 80\n",
    "Ny = 10\n",
    "n_particles = Nx*Ny\n",
    "x = np.zeros((n_particles, 2))\n",
    "E = np.arange(n_particles)\n",
    "\n",
    "for i in range(Nx):\n",
    "    for j in range(Ny):\n",
    "        x[j*Nx+i] = [(i)/(Nx) * 0.8 + 0.1, (j)/(Ny) * 0.1 + 0.3]\n",
    "\n"
   ]
  },
  {
   "cell_type": "code",
   "execution_count": 61,
   "metadata": {},
   "outputs": [],
   "source": [
    "n_blocks_x = 16\n",
    "n_blocks_y = 2\n",
    "n_blocks = n_blocks_x * n_blocks_y\n",
    "E_true = np.arange(n_blocks)\n",
    "\n",
    "x_rs = einops.rearrange(x, \"(y x) d -> x y d\", y=Ny, d=2)\n",
    "\n",
    "block_nx = int(Nx / n_blocks_x)\n",
    "block_ny = int(Ny / n_blocks_y)\n",
    "\n",
    "for i in range(Nx):\n",
    "    for j in range(Ny):\n",
    "        block_index_x = i // block_nx\n",
    "        block_index_y = j // block_ny\n",
    "        E[j*Nx+i] = E_true[block_index_x + block_index_y * n_blocks_x]\n"
   ]
  },
  {
   "cell_type": "code",
   "execution_count": 62,
   "metadata": {},
   "outputs": [
    {
     "data": {
      "image/png": "[encoded data removed]",
      "text/plain": [
       "<Figure size 640x480 with 1 Axes>"
      ]
     },
     "metadata": {},
     "output_type": "display_data"
    },
    {
     "data": {
      "text/plain": [
       "(80, 10)"
      ]
     },
     "execution_count": 62,
     "metadata": {},
     "output_type": "execute_result"
    }
   ],
   "source": [
    "import matplotlib.pyplot as plt \n",
    "E_reshape = einops.rearrange(E, \"(y x) -> x y\", y=Ny)\n",
    "plt.imshow(E_reshape.transpose(), origin='lower')\n",
    "plt.show()\n",
    "E_reshape.shape"
   ]
  },
  {
   "cell_type": "code",
   "execution_count": 4,
   "metadata": {},
   "outputs": [
    {
     "name": "stdout",
     "output_type": "stream",
     "text": [
      "[Taichi] version 1.7.0, llvm 15.0.1, commit 2fd24490, win, python 3.10.13\n",
      "[Taichi] Starting on arch=cuda\n"
     ]
    }
   ],
   "source": [
    "import taichi as ti\n",
    "import numpy as np\n",
    "import matplotlib.pyplot as plt\n",
    "import json \n",
    "\n",
    "ti.reset()\n",
    "real = ti.f32\n",
    "ti.init(arch=ti.cuda, default_fp=real, device_memory_GB=12)\n",
    "\n",
    "Nx = 80  # reduce to 30 if run out of GPU memory\n",
    "Ny = 10\n",
    "n_particles = Nx * Ny\n",
    "\n",
    "dim=2\n",
    "max_steps = 1024\n",
    "\n",
    "x = ti.Vector.field(dim,\n",
    "                    dtype=real,\n",
    "                    shape=(max_steps, n_particles),\n",
    "                    needs_grad=True)\n",
    "\n",
    "\n",
    "for i in range(Nx):\n",
    "    for j in range(Ny):\n",
    "        x[0, j * Nx + i] = [(i)/(Nx) * 0.8 + 0.1, (j)/(Ny) * 0.1 + 0.3]\n"
   ]
  }
 ],
 "metadata": {
  "kernelspec": {
   "display_name": "env_taichi",
   "language": "python",
   "name": "python3"
  },
  "language_info": {
   "codemirror_mode": {
    "name": "ipython",
    "version": 3
   },
   "file_extension": ".py",
   "mimetype": "text/x-python",
   "name": "python",
   "nbconvert_exporter": "python",
   "pygments_lexer": "ipython3",
   "version": "3.10.13"
  }
 },
 "nbformat": 4,
 "nbformat_minor": 2
}
