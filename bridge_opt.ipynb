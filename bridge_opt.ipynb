{
 "cells": [
  {
   "cell_type": "code",
   "execution_count": 1,
   "metadata": {},
   "outputs": [],
   "source": [
    "%load_ext autoreload\n",
    "%autoreload 2"
   ]
  },
  {
   "cell_type": "code",
   "execution_count": 3,
   "metadata": {},
   "outputs": [
    {
     "name": "stdout",
     "output_type": "stream",
     "text": [
      "[Taichi] Starting on arch=cuda\n",
      "[0.15062751 0.30969664] 0.008000000000000018 0.0\n",
      "[0.15127598 0.3087598 ] 0.01599999999999917 0.0\n",
      "[0.15194902 0.30718577] 0.023999999999998325 0.0\n",
      "[0.15264305 0.3049687 ] 0.03199999999999748 0.0\n",
      "[0.15335312 0.30210754] 0.039999999999996635 0.0\n",
      "[0.15407571 0.2986034 ] 0.04799999999999579 0.0\n",
      "[0.15480919 0.29445487] 0.05599999999999494 0.0\n",
      "[0.15555021 0.28966036] 0.06399999999999544 0.0\n",
      "[0.15723933 0.28538817] 0.0720000000000017 0.0\n",
      "[0.16298561 0.28231296] 0.08000000000000797 0.0\n",
      "[0.16817556 0.27854428] 0.08800000000001423 0.0\n",
      "[0.17304367 0.27480257] 0.0960000000000205 0.0\n",
      "[0.1776323  0.27157536] 0.10400000000002677 0.0\n",
      "[0.18207781 0.2687309 ] 0.11200000000003303 0.0\n",
      "[0.18634309 0.26617923] 0.1200000000000393 0.0\n",
      "[0.190531   0.26391223] 0.12800000000004022 0.0\n",
      "[0.19459024 0.2616763 ] 0.13600000000003226 0.0\n",
      "[0.19859841 0.25936997] 0.1440000000000243 0.0\n",
      "[0.20254953 0.25698987] 0.15200000000001634 0.0\n",
      "[0.20649593 0.2544515 ] 0.16000000000000839 0.0\n",
      "[0.2104613  0.25167122] 0.16800000000000043 0.0\n",
      "[0.21396711 0.24968934] 0.17599999999999247 0.0\n",
      "[0.21724728 0.24908344] 0.1839999999999845 0.0\n",
      "[0.22085162 0.24912637] 0.19199999999997655 0.0\n",
      "[0.22435993 0.24936214] 0.1999999999999686 0.0\n",
      "[0.22773604 0.25024948] 0.20799999999996063 0.0\n",
      "[0.23116884 0.25102413] 0.21599999999995267 0.0\n",
      "[0.23480777 0.25125176] 0.22399999999994472 0.0\n",
      "[0.23818243 0.2508805 ] 0.23199999999993676 0.0\n",
      "[0.24141693 0.25006542] 0.2399999999999288 0.0\n",
      "[0.24495284 0.24875557] 0.24799999999992084 0.0\n",
      "[0.24835601 0.24701132] 0.2559999999999342 0.0\n",
      "[0.25168595 0.24501511] 0.2639999999999547 0.0\n",
      "[0.255253   0.24291492] 0.2719999999999752 0.0\n",
      "[0.25905052 0.24072717] 0.2799999999999957 0.0\n",
      "[0.26304215 0.23841146] 0.2880000000000162 0.0\n",
      "[0.26723307 0.23596829] 0.2960000000000367 0.0\n",
      "[0.2715707  0.23324196] 0.30400000000005717 0.0\n",
      "[0.27597636 0.23012125] 0.31200000000007766 0.0\n",
      "[0.28040573 0.22655277] 0.32000000000009815 0.0\n",
      "[0.28482202 0.22251396] 0.32800000000011864 0.0\n",
      "[0.2891805  0.21801509] 0.33600000000013913 0.0\n",
      "[0.293063   0.21421723] 0.3440000000001596 0.0\n",
      "[0.2958793  0.21415743] 0.3520000000001801 0.0\n",
      "[0.29654455 0.21541363] 0.3600000000002006 0.0\n",
      "[0.29647306 0.21763852] 0.3680000000002211 0.0\n",
      "[0.2973566  0.21853977] 0.3760000000002416 0.0\n",
      "[0.29832318 0.21886402] 0.3840000000002621 0.0\n",
      "[0.298449   0.21977934] 0.39200000000028257 0.0\n",
      "[0.29850265 0.22086722] 0.40000000000030306 0.0\n"
     ]
    }
   ],
   "source": [
    "import taichi as ti\n",
    "import numpy as np\n",
    "import math\n",
    "from engine.mpm_solver import MPMSolver\n",
    "import argparse\n",
    "import os\n",
    "\n",
    "\n",
    "\n",
    "\n",
    "out_dir = 'out_jupyter'\n",
    "\n",
    "ti.init(arch=ti.cuda)  # Try to run on GPU\n",
    "\n",
    "gui = ti.GUI(\"Taichi Elements\", res=512, background_color=0x112F41)\n",
    "\n",
    "mpm = MPMSolver(res=(256, 256), E_scale=0.001)\n",
    "mpm2 = MPMSolver(res=(256,256), E_scale=0.5)\n",
    "mpm.set_gravity([0, -9.81])\n",
    "\n",
    "E1 = 1e6\n",
    "E2 = 1e3\n",
    "\n",
    "mpm.add_spikes(\n",
    "            sides=4,\n",
    "            center=[0.15,0.31],\n",
    "            velocity=[0.1,0],\n",
    "            radius=0.1,\n",
    "            width = 0.02,\n",
    "            color=0xFFAAAA,\n",
    "            sample_density=4,\n",
    "            material=mpm.material_elastic,\n",
    "            E=E1,\n",
    "            nu=0.2)\n",
    "mpm.add_cube(\n",
    "    lower_corner=[0.,0],\n",
    "    cube_size=[0.1,0.1],\n",
    "    velocity=[0, 0],\n",
    "    sample_density=1,\n",
    "    material=mpm.material_elastic,\n",
    "    E=E2,\n",
    "    nu=0.2\n",
    ")\n",
    "mpm.add_cube(\n",
    "    lower_corner=[0.9,0],\n",
    "    cube_size=[0.1,0.1],\n",
    "    velocity=[0, 0],\n",
    "    sample_density=1,\n",
    "    material=mpm.material_elastic,\n",
    "    E=E2,\n",
    "    nu=0.2\n",
    ")\n",
    "mpm.add_cube(\n",
    "    lower_corner=[0.,0.1],\n",
    "    cube_size=[1,0.1],\n",
    "    velocity=[0, 0],\n",
    "    sample_density=1,\n",
    "    material=mpm.material_elastic,\n",
    "    E=E1,\n",
    "    nu=0.2\n",
    ")\n",
    "for frame in range(50):\n",
    "    mpm.step(8e-3)\n",
    "    particles = mpm.particle_info()\n",
    "    print(mpm.fan_center, mpm.t, mpm.omega)\n",
    "    gui.circles(particles['position'], radius=1.5, color=particles['color'])\n",
    "    gui.show(f'{out_dir}/{frame:06d}.png')"
   ]
  },
  {
   "cell_type": "code",
   "execution_count": 39,
   "metadata": {},
   "outputs": [
    {
     "name": "stdout",
     "output_type": "stream",
     "text": [
      "[Taichi] Starting on arch=x64\n",
      "[0. 0. 0.]\n"
     ]
    }
   ],
   "source": [
    "\n",
    "ti.init()\n",
    "\n",
    "field = ti.Vector.field(3,dtype=float,shape=(1,1,1))\n",
    "\n",
    "# @ti.kernel\n",
    "def loop():\n",
    "    for i,j,k in ti.ndrange(1,1,1):\n",
    "        # field[i,j,k] = i+j+k\n",
    "        print(field[i,j,k])\n",
    "\n",
    "loop()"
   ]
  },
  {
   "cell_type": "code",
   "execution_count": 3,
   "metadata": {},
   "outputs": [],
   "source": [
    "ti.reset()"
   ]
  },
  {
   "cell_type": "code",
   "execution_count": 3,
   "metadata": {},
   "outputs": [
    {
     "name": "stdout",
     "output_type": "stream",
     "text": [
      "[Taichi] Starting on arch=cuda\n",
      "[-0.5        -0.5        -0.1         0.30000001  0.69999999]\n",
      "[0.00000000e+00 2.01636235e-10 3.23329004e-04 4.09432918e-01\n",
      " 4.09432918e-01]\n"
     ]
    },
    {
     "data": {
      "text/plain": [
       "0.0003233305285110086"
      ]
     },
     "execution_count": 3,
     "metadata": {},
     "output_type": "execute_result"
    }
   ],
   "source": [
    "import taichi as ti\n",
    "import numpy as np\n",
    "import engine.utils as utils\n",
    "\n",
    "\n",
    "# external forces\n",
    "velocity = 4\n",
    "frequency = 5\n",
    "node_x_locs = np.arange(5)\n",
    "xvalues, fxvalues = utils.rolling_gaussian_generator(velocity, frequency, node_x_locs, resolution=5)\n",
    "\n",
    "\n",
    "ti.init(arch=ti.cuda)\n",
    "\n",
    "\n",
    "dim = 2\n",
    "num_nodes = 9\n",
    "t_intervals = 5\n",
    "\n",
    "node_ids_fext = range(5)\n",
    "\n",
    "f_ext = ti.Vector.field(t_intervals, dtype=ti.f32, shape=(num_nodes,dim+1))\n",
    "\n",
    "\n",
    "for i, node in enumerate(node_ids_fext):\n",
    "    f_ext[node,0] = xvalues[i]\n",
    "    f_ext[node,2] = fxvalues\n",
    "\n",
    "# Access the value\n",
    "print(f_ext[2,0])\n",
    "print(f_ext[2,2])\n",
    "\n",
    "\n",
    "\n",
    "utils.interpolate(-0.1, f_ext[2,0], f_ext[2,2])"
   ]
  }
 ],
 "metadata": {
  "kernelspec": {
   "display_name": "env_taichi",
   "language": "python",
   "name": "python3"
  },
  "language_info": {
   "codemirror_mode": {
    "name": "ipython",
    "version": 3
   },
   "file_extension": ".py",
   "mimetype": "text/x-python",
   "name": "python",
   "nbconvert_exporter": "python",
   "pygments_lexer": "ipython3",
   "version": "3.10.13"
  }
 },
 "nbformat": 4,
 "nbformat_minor": 2
}
