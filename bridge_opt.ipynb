{
 "cells": [
  {
   "cell_type": "code",
   "execution_count": 1,
   "metadata": {},
   "outputs": [],
   "source": [
    "%load_ext autoreload\n",
    "%autoreload 2"
   ]
  },
  {
   "cell_type": "code",
   "execution_count": 2,
   "metadata": {},
   "outputs": [
    {
     "name": "stdout",
     "output_type": "stream",
     "text": [
      "[Taichi] Starting on arch=cuda\n",
      "needed substeps: 1025\n",
      "CFL: 0.004044274961890244\n",
      "num particles=8365\n",
      "  frame time 7.023 s\n",
      "  substep time 6.851 ms\n",
      "[0.15074718 0.3096966 ] 0.008000000000000018 0.0\n"
     ]
    }
   ],
   "source": [
    "import taichi as ti\n",
    "import numpy as np\n",
    "import math\n",
    "from engine.mpm_solver import MPMSolver\n",
    "import argparse\n",
    "import os\n",
    "\n",
    "\n",
    "\n",
    "\n",
    "\n",
    "\n",
    "ti.init(arch=ti.cuda)  # Try to run on GPU\n",
    "\n",
    "gui = ti.GUI(\"Taichi Elements\", res=512, background_color=0x112F41)\n",
    "\n",
    "mpm = MPMSolver(res=(256, 256), E_scale=0.001)\n",
    "mpm2 = MPMSolver(res=(256,256), E_scale=0.5)\n",
    "mpm.set_gravity([0, -9.81])\n",
    "\n",
    "E1 = 1e6\n",
    "E2 = 1e3\n",
    "\n",
    "mpm.add_spikes(\n",
    "            sides=4,\n",
    "            center=[0.15,0.31],\n",
    "            velocity=[0.1,0],\n",
    "            radius=0.1,\n",
    "            width = 0.02,\n",
    "            color=0xFFAAAA,\n",
    "            sample_density=1,\n",
    "            material=mpm.material_elastic,\n",
    "            E=E2,\n",
    "            nu=0.2)\n",
    "mpm.add_cube(\n",
    "    lower_corner=[0.,0],\n",
    "    cube_size=[0.1,0.1],\n",
    "    velocity=[0, 0],\n",
    "    sample_density=1,\n",
    "    material=mpm.material_elastic,\n",
    "    E=E2,\n",
    "    nu=0.2\n",
    ")\n",
    "mpm.add_cube(\n",
    "    lower_corner=[0.9,0],\n",
    "    cube_size=[0.1,0.1],\n",
    "    velocity=[0, 0],\n",
    "    sample_density=1,\n",
    "    material=mpm.material_elastic,\n",
    "    E=E2,\n",
    "    nu=0.2\n",
    ")\n",
    "mpm.add_cube(\n",
    "    lower_corner=[0.,0.1],\n",
    "    cube_size=[1,0.1],\n",
    "    velocity=[0, 0],\n",
    "    sample_density=1,\n",
    "    material=mpm.material_elastic,\n",
    "    E=E1,\n",
    "    nu=0.2\n",
    ")\n",
    "for frame in range(1):\n",
    "    mpm.step(8e-3, print_stat=True)\n",
    "    particles = mpm.particle_info()\n",
    "    print(mpm.fan_center, mpm.t, mpm.omega)\n",
    "    # gui.circles(particles['position'], radius=1.5, color=particles['color'])\n",
    "    # gui.show(f'{args.out_dir}/{frame:06d}.png' if write_to_disk else None)"
   ]
  },
  {
   "cell_type": "code",
   "execution_count": 16,
   "metadata": {},
   "outputs": [
    {
     "data": {
      "text/plain": [
       "8365"
      ]
     },
     "execution_count": 16,
     "metadata": {},
     "output_type": "execute_result"
    }
   ],
   "source": [
    "\n",
    "mpm.n_particles[None]"
   ]
  },
  {
   "cell_type": "code",
   "execution_count": 20,
   "metadata": {},
   "outputs": [
    {
     "data": {
      "text/plain": [
       "416666.65625"
      ]
     },
     "execution_count": 20,
     "metadata": {},
     "output_type": "execute_result"
    }
   ],
   "source": [
    "mpm.mu_0_list[8000]"
   ]
  },
  {
   "cell_type": "code",
   "execution_count": 6,
   "metadata": {},
   "outputs": [
    {
     "name": "stdout",
     "output_type": "stream",
     "text": [
      "[Taichi] Starting on arch=cuda\n",
      "[1.]\n"
     ]
    }
   ],
   "source": [
    "import taichi as ti\n",
    "\n",
    "ti.init(arch=ti.cuda)\n",
    "\n",
    "# Create a 1D vector field with shape (1,)\n",
    "test = ti.Vector.field(1, dtype=ti.f32, shape=1)\n",
    "\n",
    "@ti.kernel\n",
    "def assign_value():\n",
    "    test[0] = [1.0]\n",
    "\n",
    "assign_value()\n",
    "\n",
    "# Access the value\n",
    "print(test[0])"
   ]
  }
 ],
 "metadata": {
  "kernelspec": {
   "display_name": "env_taichi",
   "language": "python",
   "name": "python3"
  },
  "language_info": {
   "codemirror_mode": {
    "name": "ipython",
    "version": 3
   },
   "file_extension": ".py",
   "mimetype": "text/x-python",
   "name": "python",
   "nbconvert_exporter": "python",
   "pygments_lexer": "ipython3",
   "version": "3.10.13"
  }
 },
 "nbformat": 4,
 "nbformat_minor": 2
}
