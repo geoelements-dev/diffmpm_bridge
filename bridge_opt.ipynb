{
 "cells": [
  {
   "cell_type": "code",
   "execution_count": 1,
   "metadata": {},
   "outputs": [],
   "source": [
    "%load_ext autoreload\n",
    "%autoreload 2"
   ]
  },
  {
   "cell_type": "code",
   "execution_count": 5,
   "metadata": {},
   "outputs": [
    {
     "name": "stdout",
     "output_type": "stream",
     "text": [
      "[Taichi] Starting on arch=cuda\n",
      "[0. 0.] 0.008000000000000018 0.0\n",
      "[0. 0.] 0.01599999999999917 0.0\n",
      "[0. 0.] 0.023999999999998325 0.0\n",
      "[0. 0.] 0.03199999999999748 0.0\n",
      "[0. 0.] 0.039999999999996635 0.0\n",
      "[0. 0.] 0.04799999999999579 0.0\n",
      "[0. 0.] 0.05599999999999494 0.0\n",
      "[0. 0.] 0.06399999999999544 0.0\n",
      "[0. 0.] 0.0720000000000017 0.0\n",
      "[0. 0.] 0.08000000000000797 0.0\n"
     ]
    },
    {
     "ename": "",
     "evalue": "",
     "output_type": "error",
     "traceback": [
      "\u001b[1;31mThe Kernel crashed while executing code in the the current cell or a previous cell. Please review the code in the cell(s) to identify a possible cause of the failure. Click <a href='https://aka.ms/vscodeJupyterKernelCrash'>here</a> for more info. View Jupyter <a href='command:jupyter.viewOutput'>log</a> for further details."
     ]
    }
   ],
   "source": [
    "import taichi as ti\n",
    "import numpy as np\n",
    "import math\n",
    "from engine.mpm_solver import MPMSolver\n",
    "import argparse\n",
    "import os\n",
    "\n",
    "\n",
    "\n",
    "\n",
    "out_dir = 'out_jupyter'\n",
    "ti.reset()\n",
    "ti.init(arch=ti.cuda)  # Try to run on GPU\n",
    "\n",
    "gui = ti.GUI(\"Taichi Elements\", res=512, background_color=0x112F41)\n",
    "\n",
    "mpm = MPMSolver(res=(256, 256), E_scale=0.001, use_g2p2g=False)\n",
    "mpm.set_gravity([0, 0])\n",
    "\n",
    "E1 = 1e6\n",
    "E2 = 1e3\n",
    "\n",
    "\n",
    "mpm.add_cube(\n",
    "    lower_corner=[0.45,0.45],\n",
    "    cube_size=[0.1,0.1],\n",
    "    velocity=[0, 0],\n",
    "    sample_density=0.5,\n",
    "    material=mpm.material_elastic,\n",
    "    E=E1,\n",
    "    nu=0.2\n",
    ")\n",
    "for frame in range(10):\n",
    "    mpm.step(8e-3, print_stat=False)\n",
    "    particles = mpm.particle_info()\n",
    "    print(mpm.fan_center, mpm.t, mpm.omega)\n",
    "    gui.circles(particles['position'], radius=1.5, color=particles['color'])\n",
    "    gui.show(f'{out_dir}/{frame:06d}.png')"
   ]
  },
  {
   "cell_type": "code",
   "execution_count": 39,
   "metadata": {},
   "outputs": [
    {
     "name": "stdout",
     "output_type": "stream",
     "text": [
      "[Taichi] Starting on arch=x64\n",
      "[0. 0. 0.]\n"
     ]
    }
   ],
   "source": [
    "\n",
    "ti.init()\n",
    "\n",
    "field = ti.Vector.field(3,dtype=float,shape=(1,1,1))\n",
    "\n",
    "# @ti.kernel\n",
    "def loop():\n",
    "    for i,j,k in ti.ndrange(1,1,1):\n",
    "        # field[i,j,k] = i+j+k\n",
    "        print(field[i,j,k])\n",
    "\n",
    "loop()"
   ]
  },
  {
   "cell_type": "code",
   "execution_count": 3,
   "metadata": {},
   "outputs": [],
   "source": [
    "ti.reset()"
   ]
  },
  {
   "cell_type": "code",
   "execution_count": 3,
   "metadata": {},
   "outputs": [
    {
     "name": "stdout",
     "output_type": "stream",
     "text": [
      "[Taichi] Starting on arch=cuda\n",
      "[-0.5        -0.5        -0.1         0.30000001  0.69999999]\n",
      "[0.00000000e+00 2.01636235e-10 3.23329004e-04 4.09432918e-01\n",
      " 4.09432918e-01]\n"
     ]
    },
    {
     "data": {
      "text/plain": [
       "0.0003233305285110086"
      ]
     },
     "execution_count": 3,
     "metadata": {},
     "output_type": "execute_result"
    }
   ],
   "source": [
    "import taichi as ti\n",
    "import numpy as np\n",
    "import engine.utils as utils\n",
    "\n",
    "\n",
    "# external forces\n",
    "velocity = 4\n",
    "frequency = 5\n",
    "node_x_locs = np.arange(5)\n",
    "xvalues, fxvalues = utils.rolling_gaussian_generator(velocity, frequency, node_x_locs, resolution=5)\n",
    "\n",
    "\n",
    "ti.init(arch=ti.cuda)\n",
    "\n",
    "\n",
    "dim = 2\n",
    "num_nodes = 9\n",
    "t_intervals = 5\n",
    "\n",
    "node_ids_fext = range(5)\n",
    "\n",
    "f_ext = ti.Vector.field(t_intervals, dtype=ti.f32, shape=(num_nodes,dim+1))\n",
    "\n",
    "\n",
    "for i, node in enumerate(node_ids_fext):\n",
    "    f_ext[node,0] = xvalues[i]\n",
    "    f_ext[node,2] = fxvalues\n",
    "\n",
    "\n",
    "print(f_ext[2,0])\n",
    "print(f_ext[2,2])\n",
    "\n",
    "\n",
    "\n",
    "utils.interpolate(-0.1, f_ext[2,0], f_ext[2,2])"
   ]
  }
 ],
 "metadata": {
  "kernelspec": {
   "display_name": "env_taichi",
   "language": "python",
   "name": "python3"
  },
  "language_info": {
   "codemirror_mode": {
    "name": "ipython",
    "version": 3
   },
   "file_extension": ".py",
   "mimetype": "text/x-python",
   "name": "python",
   "nbconvert_exporter": "python",
   "pygments_lexer": "ipython3",
   "version": "3.10.13"
  }
 },
 "nbformat": 4,
 "nbformat_minor": 2
}
